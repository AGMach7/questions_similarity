{
  "cells": [
    {
      "cell_type": "code",
      "execution_count": 1,
      "metadata": {
        "id": "ve_17FkbcrKH"
      },
      "outputs": [],
      "source": [
        "# !pip uninstall tensorflow\n",
        "# !pip install tensorflow-gpu==2.11.0"
      ]
    },
    {
      "cell_type": "code",
      "execution_count": 2,
      "metadata": {
        "colab": {
          "base_uri": "https://localhost:8080/"
        },
        "id": "DC9IHK9XHyG4",
        "outputId": "8eca08ae-0ae4-47ff-aafc-9c30bedc6ceb"
      },
      "outputs": [
        {
          "name": "stderr",
          "output_type": "stream",
          "text": [
            "[nltk_data] Downloading package punkt to /root/nltk_data...\n",
            "[nltk_data]   Unzipping tokenizers/punkt.zip.\n"
          ]
        }
      ],
      "source": [
        "# Import necessary packages\n",
        "\n",
        "import pandas as pd\n",
        "import numpy as np\n",
        "from gensim.models import KeyedVectors\n",
        "from sklearn.feature_extraction.text import ENGLISH_STOP_WORDS\n",
        "from sklearn.model_selection import train_test_split\n",
        "from nltk import word_tokenize\n",
        "import gensim.downloader as api\n",
        "\n",
        "import string\n",
        "import nltk\n",
        "nltk.download('punkt')\n",
        "import re\n",
        "\n",
        "import matplotlib.pyplot as plt\n",
        "import seaborn as sns\n",
        "\n",
        "import itertools\n",
        "import datetime\n",
        "import tensorflow as tf\n",
        "\n",
        "from tensorflow.keras.preprocessing.sequence import pad_sequences\n",
        "from keras.models import Model\n",
        "from keras.layers import Input, Embedding, LSTM, Lambda\n",
        "import keras.backend as K\n",
        "from keras.optimizers import Adadelta\n",
        "from keras.callbacks import ModelCheckpoint"
      ]
    },
    {
      "cell_type": "code",
      "execution_count": 3,
      "metadata": {
        "colab": {
          "base_uri": "https://localhost:8080/",
          "height": 36
        },
        "id": "hRnLRHEkeB0A",
        "outputId": "dab29c9e-2813-48ab-9972-67c47393789d"
      },
      "outputs": [
        {
          "data": {
            "application/vnd.google.colaboratory.intrinsic+json": {
              "type": "string"
            },
            "text/plain": [
              "'2.12.0'"
            ]
          },
          "execution_count": 3,
          "metadata": {},
          "output_type": "execute_result"
        }
      ],
      "source": [
        "tf.__version__"
      ]
    },
    {
      "cell_type": "markdown",
      "metadata": {
        "id": "XIqLLdT0LEwG"
      },
      "source": [
        "### Part 1: Preprocessing Text"
      ]
    },
    {
      "cell_type": "markdown",
      "metadata": {
        "id": "nJEaYHVJZKt7"
      },
      "source": [
        "The first step is to import data and preprocess it.\n",
        "\n",
        "The steps of preprocessing texts are as follows:\n",
        "1. Change all words to lowercase\n",
        "2. Cleaning punctuations and translating abbreviations\n",
        "3. Tokeniza the words. Example: \"Machine learning is fun\" becomes ['machine', 'learning', 'is', 'fun']\n",
        "4. Removing stop words. Words like 'the', 'a', etc often carry little to no meaning, so it's better to remove them before changing our list of words into numerical data.\n",
        "5. Removing numbers"
      ]
    },
    {
      "cell_type": "code",
      "execution_count": 4,
      "metadata": {
        "id": "zx_mfgde5h4F"
      },
      "outputs": [],
      "source": [
        "def preprocess_question(df, raw):\n",
        "\n",
        "  # string cleaning function\n",
        "  def clean_word(word):\n",
        "    word = str(word)\n",
        "    # lowercase\n",
        "    word = word.lower()\n",
        "    word = re.sub(r\"[^A-Za-z0-9^,!.\\/'+-=]\", \" \", word)\n",
        "    # cleaning operators\n",
        "    word = re.sub(r\"\\/\", \" \", word)\n",
        "    word = re.sub(r\"\\^\", \" ^ \", word)\n",
        "    word = re.sub(r\"\\+\", \" + \", word)\n",
        "    word = re.sub(r\"\\-\", \"\", word)\n",
        "    word = re.sub(r\"\\=\", \" = \", word)\n",
        "    # translating abbreviations\n",
        "    word = re.sub(r\"\\'re\", 'are', word)\n",
        "    word = re.sub(r\"\\'ve\", 'have', word)\n",
        "    word = re.sub(r\"\\'t\", 'not', word)\n",
        "    word = re.sub(r\"\\'d\", 'would', word)\n",
        "    word = re.sub(r\"\\'m\", 'am', word)\n",
        "    word = re.sub(\"where's\", 'where is', word)\n",
        "    word = re.sub(\"what's\", 'what is', word)\n",
        "    word = re.sub(\"how's\", 'how is', word)\n",
        "    word = re.sub(\"who's\", 'who is', word)\n",
        "    word = re.sub(\"why's\", 'why is', word)\n",
        "    word = re.sub(\"he's\", 'he is', word)\n",
        "    word = re.sub(\"it's\", 'it is', word)\n",
        "    word = re.sub(\"she's\", 'she is', word)\n",
        "    word = re.sub(\"\\'s\", 'possession', word)\n",
        "    word = re.sub(\"eg\", 'example', word)\n",
        "    word = re.sub(\"usa\", 'america', word)\n",
        "    word = re.sub(\"u.s.a\", 'america', word)\n",
        "    word = re.sub(\"\\'ll\", 'will', word)\n",
        "    word = re.sub(\"uk\", 'england', word)\n",
        "    word = re.sub(\"911\", 'emergency', word)\n",
        "    return word\n",
        "\n",
        "  # removing punctuation function\n",
        "  punct =[]\n",
        "  punct += list(string.punctuation)\n",
        "  punct += '’'\n",
        "  punct.remove(\"'\")\n",
        "\n",
        "  def remove_punctuations(text):\n",
        "      for punctuation in punct:\n",
        "          text = text.replace(punctuation, ' ')\n",
        "      return text\n",
        "\n",
        "  df_input = df\n",
        "  df_input['cleaned'] = df_input[raw].apply(clean_word)\n",
        "  # getting rid of whitespaces\n",
        "  df_input['cleaned'] = df_input[raw].apply(lambda x: str(x).replace('\\n', ' '))\n",
        "  # remove links\n",
        "  df_input['cleaned'] = df_input['cleaned'].str.replace('http\\S+|www.\\S+', '', case=False)\n",
        "  # removing '>'\n",
        "  df_input['cleaned'] = df_input['cleaned'].apply(lambda x: x.replace('&gt;', ''))\n",
        "  # removing '<'\n",
        "  df_input['cleaned'] = df_input['cleaned'].apply(lambda x: x.replace('&lt;', ''))\n",
        "  # remove punctuation\n",
        "  df_input['cleaned'] = df_input['cleaned'].apply(remove_punctuations)\n",
        "  # remove ' s ' that was created after removing punctuations\n",
        "  df_input['cleaned'] = df_input['cleaned'].apply(lambda x: str(x).replace(\" s \", \" \"))\n",
        "  # apply tokenization\n",
        "  df_input['tokenized'] = df_input['cleaned'].apply(word_tokenize)\n",
        "  # remove stop words\n",
        "  df_input['tokenized'] = df_input['tokenized'].apply(lambda word_list: [x for x in word_list if x not in ENGLISH_STOP_WORDS])\n",
        "  # remove numbers\n",
        "  df_input['tokenized'] = df_input['tokenized'].apply(lambda list_data: [x for x in list_data if x.isalpha()])\n",
        "\n",
        "  # finalizing the preprocessing\n",
        "  finale = list()\n",
        "  for list_of_words in df_input.tokenized:\n",
        "    finale.append(' '.join(list_of_words))\n",
        "\n",
        "  df_input['final_text'] = finale\n",
        "\n",
        "  return df_input.tokenized"
      ]
    },
    {
      "cell_type": "code",
      "execution_count": 5,
      "metadata": {
        "colab": {
          "base_uri": "https://localhost:8080/"
        },
        "id": "JWDz5gruPGdL",
        "outputId": "177a1ead-7bad-4f66-9195-ae1b7abb15c0"
      },
      "outputs": [
        {
          "name": "stdout",
          "output_type": "stream",
          "text": [
            "Mounted at /content/drive\n"
          ]
        }
      ],
      "source": [
        "from google.colab import drive\n",
        "drive.mount('/content/drive')"
      ]
    },
    {
      "cell_type": "code",
      "execution_count": 6,
      "metadata": {
        "colab": {
          "base_uri": "https://localhost:8080/"
        },
        "id": "TL7CB_ZcXUS9",
        "outputId": "d8f0f135-22df-4624-9d9e-b54e99b6e2ff"
      },
      "outputs": [
        {
          "name": "stderr",
          "output_type": "stream",
          "text": [
            "<ipython-input-4-1d2d81042046>:50: SettingWithCopyWarning: \n",
            "A value is trying to be set on a copy of a slice from a DataFrame.\n",
            "Try using .loc[row_indexer,col_indexer] = value instead\n",
            "\n",
            "See the caveats in the documentation: https://pandas.pydata.org/pandas-docs/stable/user_guide/indexing.html#returning-a-view-versus-a-copy\n",
            "  df_input['cleaned'] = df_input[raw].apply(clean_word)\n",
            "<ipython-input-4-1d2d81042046>:52: SettingWithCopyWarning: \n",
            "A value is trying to be set on a copy of a slice from a DataFrame.\n",
            "Try using .loc[row_indexer,col_indexer] = value instead\n",
            "\n",
            "See the caveats in the documentation: https://pandas.pydata.org/pandas-docs/stable/user_guide/indexing.html#returning-a-view-versus-a-copy\n",
            "  df_input['cleaned'] = df_input[raw].apply(lambda x: str(x).replace('\\n', ' '))\n",
            "<ipython-input-4-1d2d81042046>:54: FutureWarning: The default value of regex will change from True to False in a future version.\n",
            "  df_input['cleaned'] = df_input['cleaned'].str.replace('http\\S+|www.\\S+', '', case=False)\n",
            "<ipython-input-4-1d2d81042046>:54: SettingWithCopyWarning: \n",
            "A value is trying to be set on a copy of a slice from a DataFrame.\n",
            "Try using .loc[row_indexer,col_indexer] = value instead\n",
            "\n",
            "See the caveats in the documentation: https://pandas.pydata.org/pandas-docs/stable/user_guide/indexing.html#returning-a-view-versus-a-copy\n",
            "  df_input['cleaned'] = df_input['cleaned'].str.replace('http\\S+|www.\\S+', '', case=False)\n",
            "<ipython-input-4-1d2d81042046>:56: SettingWithCopyWarning: \n",
            "A value is trying to be set on a copy of a slice from a DataFrame.\n",
            "Try using .loc[row_indexer,col_indexer] = value instead\n",
            "\n",
            "See the caveats in the documentation: https://pandas.pydata.org/pandas-docs/stable/user_guide/indexing.html#returning-a-view-versus-a-copy\n",
            "  df_input['cleaned'] = df_input['cleaned'].apply(lambda x: x.replace('&gt;', ''))\n",
            "<ipython-input-4-1d2d81042046>:58: SettingWithCopyWarning: \n",
            "A value is trying to be set on a copy of a slice from a DataFrame.\n",
            "Try using .loc[row_indexer,col_indexer] = value instead\n",
            "\n",
            "See the caveats in the documentation: https://pandas.pydata.org/pandas-docs/stable/user_guide/indexing.html#returning-a-view-versus-a-copy\n",
            "  df_input['cleaned'] = df_input['cleaned'].apply(lambda x: x.replace('&lt;', ''))\n",
            "<ipython-input-4-1d2d81042046>:60: SettingWithCopyWarning: \n",
            "A value is trying to be set on a copy of a slice from a DataFrame.\n",
            "Try using .loc[row_indexer,col_indexer] = value instead\n",
            "\n",
            "See the caveats in the documentation: https://pandas.pydata.org/pandas-docs/stable/user_guide/indexing.html#returning-a-view-versus-a-copy\n",
            "  df_input['cleaned'] = df_input['cleaned'].apply(remove_punctuations)\n",
            "<ipython-input-4-1d2d81042046>:62: SettingWithCopyWarning: \n",
            "A value is trying to be set on a copy of a slice from a DataFrame.\n",
            "Try using .loc[row_indexer,col_indexer] = value instead\n",
            "\n",
            "See the caveats in the documentation: https://pandas.pydata.org/pandas-docs/stable/user_guide/indexing.html#returning-a-view-versus-a-copy\n",
            "  df_input['cleaned'] = df_input['cleaned'].apply(lambda x: str(x).replace(\" s \", \" \"))\n",
            "<ipython-input-4-1d2d81042046>:50: SettingWithCopyWarning: \n",
            "A value is trying to be set on a copy of a slice from a DataFrame.\n",
            "Try using .loc[row_indexer,col_indexer] = value instead\n",
            "\n",
            "See the caveats in the documentation: https://pandas.pydata.org/pandas-docs/stable/user_guide/indexing.html#returning-a-view-versus-a-copy\n",
            "  df_input['cleaned'] = df_input[raw].apply(clean_word)\n",
            "<ipython-input-4-1d2d81042046>:52: SettingWithCopyWarning: \n",
            "A value is trying to be set on a copy of a slice from a DataFrame.\n",
            "Try using .loc[row_indexer,col_indexer] = value instead\n",
            "\n",
            "See the caveats in the documentation: https://pandas.pydata.org/pandas-docs/stable/user_guide/indexing.html#returning-a-view-versus-a-copy\n",
            "  df_input['cleaned'] = df_input[raw].apply(lambda x: str(x).replace('\\n', ' '))\n",
            "<ipython-input-4-1d2d81042046>:54: FutureWarning: The default value of regex will change from True to False in a future version.\n",
            "  df_input['cleaned'] = df_input['cleaned'].str.replace('http\\S+|www.\\S+', '', case=False)\n",
            "<ipython-input-4-1d2d81042046>:54: SettingWithCopyWarning: \n",
            "A value is trying to be set on a copy of a slice from a DataFrame.\n",
            "Try using .loc[row_indexer,col_indexer] = value instead\n",
            "\n",
            "See the caveats in the documentation: https://pandas.pydata.org/pandas-docs/stable/user_guide/indexing.html#returning-a-view-versus-a-copy\n",
            "  df_input['cleaned'] = df_input['cleaned'].str.replace('http\\S+|www.\\S+', '', case=False)\n",
            "<ipython-input-4-1d2d81042046>:56: SettingWithCopyWarning: \n",
            "A value is trying to be set on a copy of a slice from a DataFrame.\n",
            "Try using .loc[row_indexer,col_indexer] = value instead\n",
            "\n",
            "See the caveats in the documentation: https://pandas.pydata.org/pandas-docs/stable/user_guide/indexing.html#returning-a-view-versus-a-copy\n",
            "  df_input['cleaned'] = df_input['cleaned'].apply(lambda x: x.replace('&gt;', ''))\n",
            "<ipython-input-4-1d2d81042046>:58: SettingWithCopyWarning: \n",
            "A value is trying to be set on a copy of a slice from a DataFrame.\n",
            "Try using .loc[row_indexer,col_indexer] = value instead\n",
            "\n",
            "See the caveats in the documentation: https://pandas.pydata.org/pandas-docs/stable/user_guide/indexing.html#returning-a-view-versus-a-copy\n",
            "  df_input['cleaned'] = df_input['cleaned'].apply(lambda x: x.replace('&lt;', ''))\n",
            "<ipython-input-4-1d2d81042046>:60: SettingWithCopyWarning: \n",
            "A value is trying to be set on a copy of a slice from a DataFrame.\n",
            "Try using .loc[row_indexer,col_indexer] = value instead\n",
            "\n",
            "See the caveats in the documentation: https://pandas.pydata.org/pandas-docs/stable/user_guide/indexing.html#returning-a-view-versus-a-copy\n",
            "  df_input['cleaned'] = df_input['cleaned'].apply(remove_punctuations)\n",
            "<ipython-input-4-1d2d81042046>:62: SettingWithCopyWarning: \n",
            "A value is trying to be set on a copy of a slice from a DataFrame.\n",
            "Try using .loc[row_indexer,col_indexer] = value instead\n",
            "\n",
            "See the caveats in the documentation: https://pandas.pydata.org/pandas-docs/stable/user_guide/indexing.html#returning-a-view-versus-a-copy\n",
            "  df_input['cleaned'] = df_input['cleaned'].apply(lambda x: str(x).replace(\" s \", \" \"))\n"
          ]
        }
      ],
      "source": [
        "# Load the data\n",
        "quora = pd.read_csv('/content/drive/My Drive/quora_duplicate_questions.tsv', sep='\\t')\n",
        "questions_df = quora[['question1', 'question2', 'is_duplicate']]\n",
        "\n",
        "y = questions_df['is_duplicate']\n",
        "q1 = questions_df[['question1']]\n",
        "q2 = questions_df[['question2']]\n",
        "\n",
        "# preprocess question1\n",
        "question1_word_tokenized = preprocess_question(q1, 'question1')\n",
        "question2_word_tokenized = preprocess_question(q2, 'question2')"
      ]
    },
    {
      "cell_type": "code",
      "execution_count": 7,
      "metadata": {
        "colab": {
          "base_uri": "https://localhost:8080/"
        },
        "id": "95_6EpQ_an30",
        "outputId": "473f81b8-b2b2-45c3-95ae-204b94760521"
      },
      "outputs": [
        {
          "data": {
            "text/plain": [
              "0         [What, step, step, guide, invest, share, marke...\n",
              "1               [What, story, Kohinoor, Koh, Noor, Diamond]\n",
              "2         [How, I, increase, speed, internet, connection...\n",
              "3                 [Why, I, mentally, lonely, How, I, solve]\n",
              "4         [Which, dissolve, water, quikly, sugar, salt, ...\n",
              "                                ...                        \n",
              "404285    [How, keywords, Racket, programming, language,...\n",
              "404286                           [Do, believe, life, death]\n",
              "404287                                         [What, coin]\n",
              "404288    [What, approx, annual, cost, living, studying,...\n",
              "404289                            [What, like, sex, cousin]\n",
              "Name: tokenized, Length: 404290, dtype: object"
            ]
          },
          "execution_count": 7,
          "metadata": {},
          "output_type": "execute_result"
        }
      ],
      "source": [
        "question1_word_tokenized"
      ]
    },
    {
      "cell_type": "markdown",
      "metadata": {
        "id": "xCrPoxSXi6IU"
      },
      "source": [
        "Next, we're making a dictionary containing each unique words in our dataset, and the corresponding number of each word.\n",
        "\n",
        "Example:\n",
        "- Question 1 : 'We are eating lunch'\n",
        "- Question 2 : 'We are having lunch'\n",
        "\n",
        "Dictionary:\n",
        "- We : 1, are : 2, eating : 3, lunch : 4, having : 5\n",
        "\n",
        "Outcome: \n",
        "- Question 1 : [1, 2, 3, 4]\n",
        "- Question 2 : [1, 2, 5, 4]"
      ]
    },
    {
      "cell_type": "markdown",
      "metadata": {
        "id": "asKKAPDDl8Vh"
      },
      "source": [
        "Logic behind the next cell's algorithm is as follows.\n",
        "\n",
        "- Let's take a look at our first question. The first word is 'We'. Our 'vocabulary' dictionary is empty at this moment. However, our ```inverse_vocabulary``` list already as a member, which is the '\\<placeholder>'.\n",
        "\n",
        "- Since 'we' is not yet in the dictionary, we will add the word 'we' as the first entry in the dictionary. \n",
        "\n",
        "- The word 'we' is the encoded to the number 1. This number is the length of the ```inverse_vocabulary``` list.\n",
        "\n",
        "- After that, we add the word 'we' to the ```inverse_vocabulary``` list. \n",
        "\n",
        "- Fast forward to the first word in the second question. Because the word 'we' is already inside the the vocabulary, it just simply assigns the word 'we' to the number '1'.\n",
        "\n",
        "We want to start our numbering at '1', that's why we have the '\\<placeholder>' member of the ```inverse_vocabulary``` list.\n"
      ]
    },
    {
      "cell_type": "code",
      "execution_count": 8,
      "metadata": {
        "id": "BDCmEhnLsN2Y"
      },
      "outputs": [],
      "source": [
        "q1_v = list()\n",
        "q2_v = list()\n",
        "vocabulary = dict()\n",
        "inverse_vocabulary = ['<placeholder>']\n",
        "\n",
        "for row in question1_word_tokenized:\n",
        "  q1_number = []\n",
        "  for word in row:\n",
        "    if word not in vocabulary:\n",
        "      vocabulary[word] = len(inverse_vocabulary)\n",
        "      q1_number.append(len(inverse_vocabulary))\n",
        "      inverse_vocabulary.append(word)\n",
        "    else:\n",
        "      q1_number.append(vocabulary[word])\n",
        "  q1_v.append(q1_number)\n",
        "\n",
        "for row in question2_word_tokenized:\n",
        "  q2_number = []\n",
        "  for word in row:\n",
        "    if word not in vocabulary:\n",
        "      vocabulary[word] = len(inverse_vocabulary)\n",
        "      q2_number.append(len(inverse_vocabulary))\n",
        "      inverse_vocabulary.append(word)\n",
        "    else:\n",
        "      q2_number.append(vocabulary[word])\n",
        "  q2_v.append(q2_number)"
      ]
    },
    {
      "cell_type": "markdown",
      "metadata": {
        "id": "zAGfgZ63nVF8"
      },
      "source": [
        "Here's the resulting dataframe"
      ]
    },
    {
      "cell_type": "code",
      "execution_count": 9,
      "metadata": {
        "colab": {
          "base_uri": "https://localhost:8080/",
          "height": 423
        },
        "id": "Ok4n-qyVqp_m",
        "outputId": "dcf6bbec-a230-4608-d1f9-0e0fc9cfb11e"
      },
      "outputs": [
        {
          "data": {
            "text/html": [
              "\n",
              "  <div id=\"df-ed50e3f7-be49-4f07-a86f-81abb9ebc190\">\n",
              "    <div class=\"colab-df-container\">\n",
              "      <div>\n",
              "<style scoped>\n",
              "    .dataframe tbody tr th:only-of-type {\n",
              "        vertical-align: middle;\n",
              "    }\n",
              "\n",
              "    .dataframe tbody tr th {\n",
              "        vertical-align: top;\n",
              "    }\n",
              "\n",
              "    .dataframe thead th {\n",
              "        text-align: right;\n",
              "    }\n",
              "</style>\n",
              "<table border=\"1\" class=\"dataframe\">\n",
              "  <thead>\n",
              "    <tr style=\"text-align: right;\">\n",
              "      <th></th>\n",
              "      <th>q1</th>\n",
              "      <th>q2</th>\n",
              "    </tr>\n",
              "  </thead>\n",
              "  <tbody>\n",
              "    <tr>\n",
              "      <th>0</th>\n",
              "      <td>[1, 2, 2, 3, 4, 5, 6, 7]</td>\n",
              "      <td>[1, 2, 2, 3, 4, 5, 6]</td>\n",
              "    </tr>\n",
              "    <tr>\n",
              "      <th>1</th>\n",
              "      <td>[1, 8, 9, 10, 11, 12]</td>\n",
              "      <td>[1, 750, 361, 157, 4563, 9, 10, 11, 9173]</td>\n",
              "    </tr>\n",
              "    <tr>\n",
              "      <th>2</th>\n",
              "      <td>[13, 14, 15, 16, 17, 18, 19, 20]</td>\n",
              "      <td>[13, 354, 16, 1699, 472, 46295]</td>\n",
              "    </tr>\n",
              "    <tr>\n",
              "      <th>3</th>\n",
              "      <td>[21, 14, 22, 23, 13, 14, 24]</td>\n",
              "      <td>[4907, 11467, 1286, 1286, 13475]</td>\n",
              "    </tr>\n",
              "    <tr>\n",
              "      <th>4</th>\n",
              "      <td>[25, 26, 27, 28, 29, 30, 31, 32, 33, 34]</td>\n",
              "      <td>[25, 3089, 5777, 30, 27]</td>\n",
              "    </tr>\n",
              "    <tr>\n",
              "      <th>...</th>\n",
              "      <td>...</td>\n",
              "      <td>...</td>\n",
              "    </tr>\n",
              "    <tr>\n",
              "      <th>404285</th>\n",
              "      <td>[13, 2512, 69394, 302, 1231, 1488, 2515]</td>\n",
              "      <td>[13, 2512, 94305, 305, 306, 1488, 2515]</td>\n",
              "    </tr>\n",
              "    <tr>\n",
              "      <th>404286</th>\n",
              "      <td>[722, 1608, 356, 1175]</td>\n",
              "      <td>[201, 1425, 356, 1175]</td>\n",
              "    </tr>\n",
              "    <tr>\n",
              "      <th>404287</th>\n",
              "      <td>[1, 8826]</td>\n",
              "      <td>[1, 8826]</td>\n",
              "    </tr>\n",
              "    <tr>\n",
              "      <th>404288</th>\n",
              "      <td>[1, 18110, 12357, 315, 2159, 2400, 49897, 6918...</td>\n",
              "      <td>[14, 2115, 4055, 1922, 1748, 14, 95, 50, 587, ...</td>\n",
              "    </tr>\n",
              "    <tr>\n",
              "      <th>404289</th>\n",
              "      <td>[1, 74, 1685, 5527]</td>\n",
              "      <td>[1, 74, 1685, 5527]</td>\n",
              "    </tr>\n",
              "  </tbody>\n",
              "</table>\n",
              "<p>404290 rows × 2 columns</p>\n",
              "</div>\n",
              "      <button class=\"colab-df-convert\" onclick=\"convertToInteractive('df-ed50e3f7-be49-4f07-a86f-81abb9ebc190')\"\n",
              "              title=\"Convert this dataframe to an interactive table.\"\n",
              "              style=\"display:none;\">\n",
              "        \n",
              "  <svg xmlns=\"http://www.w3.org/2000/svg\" height=\"24px\"viewBox=\"0 0 24 24\"\n",
              "       width=\"24px\">\n",
              "    <path d=\"M0 0h24v24H0V0z\" fill=\"none\"/>\n",
              "    <path d=\"M18.56 5.44l.94 2.06.94-2.06 2.06-.94-2.06-.94-.94-2.06-.94 2.06-2.06.94zm-11 1L8.5 8.5l.94-2.06 2.06-.94-2.06-.94L8.5 2.5l-.94 2.06-2.06.94zm10 10l.94 2.06.94-2.06 2.06-.94-2.06-.94-.94-2.06-.94 2.06-2.06.94z\"/><path d=\"M17.41 7.96l-1.37-1.37c-.4-.4-.92-.59-1.43-.59-.52 0-1.04.2-1.43.59L10.3 9.45l-7.72 7.72c-.78.78-.78 2.05 0 2.83L4 21.41c.39.39.9.59 1.41.59.51 0 1.02-.2 1.41-.59l7.78-7.78 2.81-2.81c.8-.78.8-2.07 0-2.86zM5.41 20L4 18.59l7.72-7.72 1.47 1.35L5.41 20z\"/>\n",
              "  </svg>\n",
              "      </button>\n",
              "      \n",
              "  <style>\n",
              "    .colab-df-container {\n",
              "      display:flex;\n",
              "      flex-wrap:wrap;\n",
              "      gap: 12px;\n",
              "    }\n",
              "\n",
              "    .colab-df-convert {\n",
              "      background-color: #E8F0FE;\n",
              "      border: none;\n",
              "      border-radius: 50%;\n",
              "      cursor: pointer;\n",
              "      display: none;\n",
              "      fill: #1967D2;\n",
              "      height: 32px;\n",
              "      padding: 0 0 0 0;\n",
              "      width: 32px;\n",
              "    }\n",
              "\n",
              "    .colab-df-convert:hover {\n",
              "      background-color: #E2EBFA;\n",
              "      box-shadow: 0px 1px 2px rgba(60, 64, 67, 0.3), 0px 1px 3px 1px rgba(60, 64, 67, 0.15);\n",
              "      fill: #174EA6;\n",
              "    }\n",
              "\n",
              "    [theme=dark] .colab-df-convert {\n",
              "      background-color: #3B4455;\n",
              "      fill: #D2E3FC;\n",
              "    }\n",
              "\n",
              "    [theme=dark] .colab-df-convert:hover {\n",
              "      background-color: #434B5C;\n",
              "      box-shadow: 0px 1px 3px 1px rgba(0, 0, 0, 0.15);\n",
              "      filter: drop-shadow(0px 1px 2px rgba(0, 0, 0, 0.3));\n",
              "      fill: #FFFFFF;\n",
              "    }\n",
              "  </style>\n",
              "\n",
              "      <script>\n",
              "        const buttonEl =\n",
              "          document.querySelector('#df-ed50e3f7-be49-4f07-a86f-81abb9ebc190 button.colab-df-convert');\n",
              "        buttonEl.style.display =\n",
              "          google.colab.kernel.accessAllowed ? 'block' : 'none';\n",
              "\n",
              "        async function convertToInteractive(key) {\n",
              "          const element = document.querySelector('#df-ed50e3f7-be49-4f07-a86f-81abb9ebc190');\n",
              "          const dataTable =\n",
              "            await google.colab.kernel.invokeFunction('convertToInteractive',\n",
              "                                                     [key], {});\n",
              "          if (!dataTable) return;\n",
              "\n",
              "          const docLinkHtml = 'Like what you see? Visit the ' +\n",
              "            '<a target=\"_blank\" href=https://colab.research.google.com/notebooks/data_table.ipynb>data table notebook</a>'\n",
              "            + ' to learn more about interactive tables.';\n",
              "          element.innerHTML = '';\n",
              "          dataTable['output_type'] = 'display_data';\n",
              "          await google.colab.output.renderOutput(dataTable, element);\n",
              "          const docLink = document.createElement('div');\n",
              "          docLink.innerHTML = docLinkHtml;\n",
              "          element.appendChild(docLink);\n",
              "        }\n",
              "      </script>\n",
              "    </div>\n",
              "  </div>\n",
              "  "
            ],
            "text/plain": [
              "                                                       q1  \\\n",
              "0                                [1, 2, 2, 3, 4, 5, 6, 7]   \n",
              "1                                   [1, 8, 9, 10, 11, 12]   \n",
              "2                        [13, 14, 15, 16, 17, 18, 19, 20]   \n",
              "3                            [21, 14, 22, 23, 13, 14, 24]   \n",
              "4                [25, 26, 27, 28, 29, 30, 31, 32, 33, 34]   \n",
              "...                                                   ...   \n",
              "404285           [13, 2512, 69394, 302, 1231, 1488, 2515]   \n",
              "404286                             [722, 1608, 356, 1175]   \n",
              "404287                                          [1, 8826]   \n",
              "404288  [1, 18110, 12357, 315, 2159, 2400, 49897, 6918...   \n",
              "404289                                [1, 74, 1685, 5527]   \n",
              "\n",
              "                                                       q2  \n",
              "0                                   [1, 2, 2, 3, 4, 5, 6]  \n",
              "1               [1, 750, 361, 157, 4563, 9, 10, 11, 9173]  \n",
              "2                         [13, 354, 16, 1699, 472, 46295]  \n",
              "3                        [4907, 11467, 1286, 1286, 13475]  \n",
              "4                                [25, 3089, 5777, 30, 27]  \n",
              "...                                                   ...  \n",
              "404285            [13, 2512, 94305, 305, 306, 1488, 2515]  \n",
              "404286                             [201, 1425, 356, 1175]  \n",
              "404287                                          [1, 8826]  \n",
              "404288  [14, 2115, 4055, 1922, 1748, 14, 95, 50, 587, ...  \n",
              "404289                                [1, 74, 1685, 5527]  \n",
              "\n",
              "[404290 rows x 2 columns]"
            ]
          },
          "execution_count": 9,
          "metadata": {},
          "output_type": "execute_result"
        }
      ],
      "source": [
        "x = pd.DataFrame(zip(q1_v,q2_v))\n",
        "x = x.rename({0:'q1', 1:'q2'}, axis = 'columns')\n",
        "x"
      ]
    },
    {
      "cell_type": "markdown",
      "metadata": {
        "id": "KZkUSLVmLDBL"
      },
      "source": [
        "### Part 2 : Preparing Embedding Layer and Model\n",
        "\n",
        "In this part, we're going to download a Glove pretrained embedding layer, which will convert our words into n-dimensions vector. Since the version that we download is called 'gigaword-300', the resulting numerical vectors will be 300 dimensions."
      ]
    },
    {
      "cell_type": "code",
      "execution_count": 10,
      "metadata": {
        "colab": {
          "base_uri": "https://localhost:8080/"
        },
        "id": "9Ir6Uz-9fhhd",
        "outputId": "27b4ad2f-e25c-4762-d0f5-a790b50c590b"
      },
      "outputs": [
        {
          "name": "stdout",
          "output_type": "stream",
          "text": [
            "[==================================================] 100.0% 376.1/376.1MB downloaded\n"
          ]
        }
      ],
      "source": [
        "model = api.load(\"glove-wiki-gigaword-300\")\n",
        "embedding_dim = 300"
      ]
    },
    {
      "cell_type": "code",
      "execution_count": 11,
      "metadata": {
        "colab": {
          "base_uri": "https://localhost:8080/"
        },
        "id": "CZlevrvBpfRG",
        "outputId": "c2cb9611-c30b-47f7-836a-6965a88d1f6e"
      },
      "outputs": [
        {
          "name": "stderr",
          "output_type": "stream",
          "text": [
            "<ipython-input-11-3228bff7edb6>:10: DeprecationWarning: Call to deprecated `word_vec` (Use get_vector instead).\n",
            "  embeddings[index] = model.word_vec(word)\n"
          ]
        }
      ],
      "source": [
        "# create an embedding matrix using numpy array\n",
        "# generate random numbers for words that might be in our vocab dict but not in \n",
        "# the glove's vocabulary\n",
        "\n",
        "embeddings = 1 * np.random.randn(len(vocabulary) + 1, 300)  \n",
        "embeddings[0] = 0 \n",
        "\n",
        "for word, index in vocabulary.items():\n",
        "    if word in model.key_to_index: #.vocab\n",
        "        embeddings[index] = model.word_vec(word)"
      ]
    },
    {
      "cell_type": "markdown",
      "metadata": {
        "id": "fuBTpCi8bCXs"
      },
      "source": [
        "Here's a preview of what the embedding matrix looks like for the word 'machine'."
      ]
    },
    {
      "cell_type": "code",
      "execution_count": 12,
      "metadata": {
        "colab": {
          "base_uri": "https://localhost:8080/"
        },
        "id": "2tbcIbQJbIz1",
        "outputId": "8ed7d844-e1cb-4a08-d018-c8e17e46aa6b"
      },
      "outputs": [
        {
          "data": {
            "text/plain": [
              "array([-0.20598   ,  0.84198999,  0.32655001, -0.55080003, -0.71978003,\n",
              "        0.4463    ,  0.65963   , -0.083757  ,  0.31733   , -1.69280005,\n",
              "        0.18900999, -0.56237   ,  0.60960001, -0.10732   ,  0.36826   ,\n",
              "       -0.053698  ,  0.041387  , -0.28029001, -0.43241999,  0.36917001,\n",
              "        0.56726003,  0.39636999,  0.15227   , -0.11159   ,  0.20497   ,\n",
              "        0.25431001,  0.57173997, -0.24691001,  0.26312   , -0.076046  ,\n",
              "       -0.26778999,  0.048289  ,  0.31213   ,  0.51489002, -0.13457   ,\n",
              "        0.53894001,  0.15186   , -0.21444   , -0.2392    ,  0.29854   ,\n",
              "       -0.073615  ,  0.44198   , -0.13692001, -0.22565   ,  0.46039   ,\n",
              "        0.1428    ,  0.70315999, -0.23107   ,  0.63721001,  0.17203   ,\n",
              "        0.21066999,  0.32497001, -0.02218   ,  0.5431    , -0.88348001,\n",
              "       -0.53834999, -0.044051  , -0.12977999,  0.31841999,  0.31617999,\n",
              "        0.22351   ,  0.021186  , -0.05058   ,  0.0056521 , -0.021808  ,\n",
              "        0.61592001, -0.71762002,  0.20032001,  0.2207    ,  0.32780999,\n",
              "        0.27289   ,  0.37678999,  0.46449   ,  0.12419   ,  0.014284  ,\n",
              "        0.36028999, -0.11143   ,  0.037234  ,  0.51565999,  0.029482  ,\n",
              "       -0.27294999,  0.28053001,  0.42168   , -0.40937001, -0.15299   ,\n",
              "       -0.24663   , -0.40268001,  0.022727  ,  0.27553999, -0.44933999,\n",
              "        0.53419   , -0.18655001, -0.52209997,  0.0033804 ,  0.28652   ,\n",
              "        0.27614   , -0.55414999, -0.16782001,  0.72316003, -0.95371997,\n",
              "       -0.61812001,  0.91101003,  0.087874  , -0.43011001, -0.34075999,\n",
              "       -0.58445001,  0.15755001, -0.24375001, -0.65069002,  0.66677999,\n",
              "        0.004366  ,  0.10352   ,  0.1846    ,  0.31437001,  0.056117  ,\n",
              "       -0.024739  , -0.92970997,  0.28894001, -0.02116   , -0.03804   ,\n",
              "        0.49972001,  0.44510001,  0.083204  ,  0.0050996 , -0.22987001,\n",
              "        0.044749  ,  0.36858001,  0.086941  , -0.30658999, -0.019477  ,\n",
              "       -0.18907   ,  0.66206998,  0.032227  , -0.025722  , -0.11113   ,\n",
              "        0.35602999,  0.13812999, -0.28296   ,  1.13310003,  0.43695   ,\n",
              "       -0.42625001, -0.20754001, -0.58200002,  0.19673   ,  0.1925    ,\n",
              "       -0.011318  ,  0.78465003, -0.041893  ,  0.038047  ,  0.10748   ,\n",
              "        0.24656001, -0.074986  , -0.26512   , -0.41326001,  0.62576997,\n",
              "       -0.15728   ,  0.28211999,  0.010547  ,  0.19357   ,  0.20958   ,\n",
              "        0.23703   , -0.21324   ,  0.049444  , -0.030691  ,  0.23544   ,\n",
              "        0.80417001,  0.43634   ,  0.37397999,  0.23389   , -0.13601001,\n",
              "       -0.25143   ,  0.13649   , -0.1608    ,  0.14541   ,  0.13987   ,\n",
              "       -0.61001003, -0.50786   ,  0.20087001, -0.42050999,  0.13003001,\n",
              "        0.44940999,  0.5801    ,  0.44585001,  0.12496   , -0.12382   ,\n",
              "       -0.22889   ,  0.36129001,  0.045625  ,  0.29653999, -0.42275   ,\n",
              "        0.36245999,  0.24453001,  0.015604  , -0.046257  , -0.09963   ,\n",
              "       -0.31024   , -0.35703   , -0.11812   , -0.020418  ,  0.018813  ,\n",
              "        0.41286999,  0.031822  ,  0.55900002,  0.29602   , -0.16438   ,\n",
              "       -1.14110005, -0.16553999,  0.08988   , -0.29065999, -0.18343   ,\n",
              "       -0.11152   ,  0.39951   , -0.20129   , -0.23182   ,  0.054877  ,\n",
              "       -0.46360001, -0.38924   ,  0.47487   , -0.2617    ,  0.54911   ,\n",
              "       -1.05630004,  0.33313   , -0.17137   ,  0.065237  , -0.15177999,\n",
              "        0.094147  , -0.029424  , -0.4867    ,  0.35416999, -0.28009999,\n",
              "        0.16393   ,  0.12743001, -0.18001001, -0.33708   , -0.14585   ,\n",
              "       -0.079859  ,  0.10068   , -0.285     , -0.36447999,  0.071626  ,\n",
              "       -0.03243   , -0.22274999, -0.19295999, -0.59766001, -0.50414002,\n",
              "       -0.29089999, -0.25143   , -0.11063   , -0.29916   , -0.40074   ,\n",
              "       -0.018644  ,  0.13172001,  0.12749   ,  0.28275999,  0.99677002,\n",
              "       -0.30428001, -0.27438   , -0.11842   ,  0.24812999, -0.34      ,\n",
              "        0.029349  , -0.23669   , -0.34933001,  0.057323  ,  0.43382001,\n",
              "        0.056372  , -0.72979999,  0.29758999,  0.14394   , -0.11176   ,\n",
              "       -0.69262999,  0.0017064 ,  0.17185999, -0.22473   , -0.30206999,\n",
              "        0.25126001, -1.5733    ,  0.14274999, -0.83604997, -0.168     ,\n",
              "        0.046081  , -0.25342   ,  0.25271001,  0.032683  ,  0.61669999,\n",
              "        0.38031   , -0.31275001, -0.11898   , -0.05659   , -0.51209998,\n",
              "       -0.12606999, -0.37990999,  0.0078193 ,  0.45124999,  0.15116   ,\n",
              "        0.73488998, -0.45675001, -0.075203  , -0.18286   ,  0.51723999])"
            ]
          },
          "execution_count": 12,
          "metadata": {},
          "output_type": "execute_result"
        }
      ],
      "source": [
        "embeddings[vocabulary['machine']]"
      ]
    },
    {
      "cell_type": "markdown",
      "metadata": {
        "id": "cFmTFmMWbL3_"
      },
      "source": [
        "Now, let's prepare our dataset into training and testing set. We also do zero padding to ensure our input lengths are of the same shape."
      ]
    },
    {
      "cell_type": "code",
      "execution_count": 13,
      "metadata": {
        "colab": {
          "base_uri": "https://localhost:8080/"
        },
        "id": "-x2bB3-4qp4o",
        "outputId": "4f83a4a0-00ad-43f9-aa44-f3b026c08535"
      },
      "outputs": [
        {
          "name": "stdout",
          "output_type": "stream",
          "text": [
            "Data preparation complete. We can begin training now.\n"
          ]
        }
      ],
      "source": [
        "# finding out maximum length of question\n",
        "max_length = max(x.q1.map(lambda x : len(x)).max(),\n",
        "                 x.q2.map(lambda x : len(x)).max())\n",
        "\n",
        "# splitting data to train test split\n",
        "test_size = 40000\n",
        "x_train, x_test, y_train, y_test = train_test_split(x, y, test_size = test_size)\n",
        "\n",
        "# creating q1 and q2 partition\n",
        "x_train = {'q1': x_train.q1, 'q2':x_train.q2}\n",
        "x_test = {'q1':x_test.q1, 'q2':x_test.q2}\n",
        "\n",
        "# convert y to numpy array\n",
        "y_train = y_train.values\n",
        "y_test = y_test.values\n",
        "\n",
        "# zero padding\n",
        "for data, part in itertools.product([x_train, x_test], ['q1', 'q2']):\n",
        "  data[part] = tf.keras.preprocessing.sequence.pad_sequences(data[part], maxlen=max_length)\n",
        "\n",
        "assert x_train['q1'].shape == x_train['q2'].shape\n",
        "\n",
        "if len(x_train['q1']) == len(y_train):\n",
        "  print('Data preparation complete. We can begin training now.')\n",
        "else:\n",
        "  print('Train data and label has different length.')"
      ]
    },
    {
      "cell_type": "markdown",
      "metadata": {
        "id": "bNLem6fNOmdH"
      },
      "source": [
        "Now let's create a siamese network. Why is it called siamese? Because it has two inputs, in which both inputs are processed through the same layers before joined together in a 'merging' layer. This merging's layer output is then run through a few more layers, before the model outputs a '0' or '1' through a final Dense layer. \n",
        "\n",
        "Our merging layer here is a ```tf.keras.layers.Dot``` layer, which takes the dot product of two vectors. We set the 'normalize' argument to 'True', so it normalizes the dot product, and gives us the cosine similarity of both vectors.\n",
        "\n",
        "The cosine similarity is then run through a few more batch normalization, dense, and dropout layers, before the final sigmoid-activated dense layer."
      ]
    },
    {
      "cell_type": "code",
      "execution_count": 14,
      "metadata": {
        "id": "VBnrryhSyrZU"
      },
      "outputs": [],
      "source": [
        "import tensorflow.keras.backend as k"
      ]
    },
    {
      "cell_type": "code",
      "execution_count": 15,
      "metadata": {
        "colab": {
          "base_uri": "https://localhost:8080/",
          "height": 1000
        },
        "id": "XUCj-Qafr_RC",
        "outputId": "38e9a2c2-29da-44df-f24b-2138a2a142bf"
      },
      "outputs": [
        {
          "data": {
            "image/png": "[encoded data removed]",
            "text/plain": [
              "<IPython.core.display.Image object>"
            ]
          },
          "execution_count": 15,
          "metadata": {},
          "output_type": "execute_result"
        }
      ],
      "source": [
        "# Model variables\n",
        "k.clear_session()\n",
        "batch_size = 64\n",
        "\n",
        "q1_input = tf.keras.layers.Input(shape = (max_length, ), dtype = 'int32', name = 'q1_input')\n",
        "q2_input = tf.keras.layers.Input(shape = (max_length, ), dtype = 'int32', name = 'q2_input')\n",
        "\n",
        "embedding_layer = tf.keras.layers.Embedding(len(embeddings), embedding_dim, \n",
        "                                            weights = [embeddings], \n",
        "                                            input_length = max_length,\n",
        "                                            trainable = False)\n",
        "\n",
        "q1_embed = embedding_layer(q1_input)\n",
        "q2_embed = embedding_layer(q2_input)\n",
        "\n",
        "lstm_layer = tf.keras.layers.Bidirectional(tf.keras.layers.LSTM(256, return_sequences = True))\n",
        "\n",
        "q1_lstm = lstm_layer(q1_embed)\n",
        "q2_lstm = lstm_layer(q2_embed)\n",
        "\n",
        "dot_layer = tf.keras.layers.dot([q1_lstm,q2_lstm], [1,1], normalize = True, name = 'cosine_sim')\n",
        "flatten_layer = tf.keras.layers.Flatten()(dot_layer)\n",
        "\n",
        "bn_layer_1 = tf.keras.layers.BatchNormalization()(flatten_layer)\n",
        "dn_layer_1 = tf.keras.layers.Dense(256, activation = 'selu')(bn_layer_1)\n",
        "do_layer_1 = tf.keras.layers.Dropout(0.3)(dn_layer_1)\n",
        "\n",
        "bn_layer_2 = tf.keras.layers.BatchNormalization()(do_layer_1)\n",
        "dn_layer_2 = tf.keras.layers.Dense(256, activation = 'selu')(bn_layer_2)\n",
        "do_layer_2 = tf.keras.layers.Dropout(0.3)(dn_layer_2)\n",
        "\n",
        "bn_layer_3 = tf.keras.layers.BatchNormalization()(do_layer_2)\n",
        "dn_layer_3 = tf.keras.layers.Dense(256, activation = 'selu')(bn_layer_3)\n",
        "do_layer_3 = tf.keras.layers.Dropout(0.3)(dn_layer_3)\n",
        "\n",
        "dense_predict = tf.keras.layers.Dense(1, activation = 'sigmoid')(do_layer_3)\n",
        "full_model = tf.keras.models.Model([q1_input, q2_input], dense_predict)\n",
        "full_model.compile(loss = tf.keras.losses.BinaryCrossentropy(), optimizer = 'adam', metrics = ['accuracy'])\n",
        "\n",
        "# tf.keras.utils.plot_model(full_model, show_shapes=True, show_layer_names=True)\n",
        "tf.keras.utils.plot_model(full_model)"
      ]
    },
    {
      "cell_type": "markdown",
      "metadata": {
        "id": "xiaeiwMbUPhl"
      },
      "source": [
        "### Part 3 :  Training the Model\n",
        "\n",
        "The model is then trained for 5 epochs."
      ]
    },
    {
      "cell_type": "code",
      "execution_count": 16,
      "metadata": {
        "colab": {
          "base_uri": "https://localhost:8080/"
        },
        "id": "CJ1qWpBMT-hd",
        "outputId": "b08207e1-e9f7-42d5-9e17-05743b723f14"
      },
      "outputs": [
        {
          "name": "stdout",
          "output_type": "stream",
          "text": [
            "Epoch 1/5\n",
            "5693/5693 [==============================] - 518s 89ms/step - loss: 0.4980 - accuracy: 0.7523 - val_loss: 0.4943 - val_accuracy: 0.7478\n",
            "Epoch 2/5\n",
            "5693/5693 [==============================] - 514s 90ms/step - loss: 0.4183 - accuracy: 0.8014 - val_loss: 0.4236 - val_accuracy: 0.8033\n",
            "Epoch 3/5\n",
            "5693/5693 [==============================] - 515s 90ms/step - loss: 0.3646 - accuracy: 0.8321 - val_loss: 0.4390 - val_accuracy: 0.7857\n",
            "Epoch 4/5\n",
            "5693/5693 [==============================] - 518s 91ms/step - loss: 0.3079 - accuracy: 0.8620 - val_loss: 0.4274 - val_accuracy: 0.8243\n",
            "Epoch 5/5\n",
            "5693/5693 [==============================] - 515s 90ms/step - loss: 0.2532 - accuracy: 0.8898 - val_loss: 0.4172 - val_accuracy: 0.8236\n"
          ]
        }
      ],
      "source": [
        "history = full_model.fit([x_train['q1'], x_train['q2']], y_train, \n",
        "                         batch_size=batch_size, epochs=5,\n",
        "                         validation_data=([x_test['q1'], x_test['q2']], y_test))"
      ]
    },
    {
      "cell_type": "code",
      "execution_count": 17,
      "metadata": {
        "colab": {
          "base_uri": "https://localhost:8080/"
        },
        "id": "WASDJSQoZjsi",
        "outputId": "a1503ca5-2244-45ab-a925-ae4756d044a5"
      },
      "outputs": [
        {
          "name": "stderr",
          "output_type": "stream",
          "text": [
            "<ipython-input-17-1dcf3c7a5c35>:4: MatplotlibDeprecationWarning: The seaborn styles shipped by Matplotlib are deprecated since 3.6, as they no longer correspond to the styles shipped by seaborn. However, they will remain available as 'seaborn-v0_8-<style>'. Alternatively, directly use the seaborn API instead.\n",
            "  plt.style.use('seaborn-whitegrid')\n"
          ]
        }
      ],
      "source": [
        "# function to plot model's loss\n",
        "import matplotlib.image  as mpimg\n",
        "import matplotlib.pyplot as plt\n",
        "plt.style.use('seaborn-whitegrid')\n",
        "\n",
        "def plot_acc(history):\n",
        "  acc = history.history['accuracy']\n",
        "  val_acc = history.history['val_accuracy']\n",
        "  epochs = range(len(acc))\n",
        "  plt.figure(figsize=(5,5))\n",
        "  acc_plot, = plt.plot(epochs, acc, 'r')\n",
        "  val_acc_plot, = plt.plot(epochs, val_acc, 'b')\n",
        "  plt.title('Training and Validation Accuracy')\n",
        "  plt.legend([acc_plot, val_acc_plot], ['Training Accuracy', 'Validation Accuracy'])\n",
        "\n",
        "\n",
        "def plot_loss(history):\n",
        "  loss = history.history['loss']\n",
        "  val_loss = history.history['val_loss']\n",
        "  epochs = range(len(loss))\n",
        "  plt.figure(figsize=(5,5))\n",
        "  loss_plot, = plt.plot(epochs, loss, 'r')\n",
        "  val_loss_plot, = plt.plot(epochs, val_loss, 'b')\n",
        "  plt.title('Training and Validation Loss')\n",
        "  plt.legend([loss_plot, val_loss_plot], ['Training Loss', 'Validation Loss'])\n",
        "\n",
        "def plot_history(history):\n",
        "  plot_acc(history)\n",
        "  plot_loss(history)"
      ]
    },
    {
      "cell_type": "code",
      "execution_count": 18,
      "metadata": {
        "colab": {
          "base_uri": "https://localhost:8080/",
          "height": 905
        },
        "id": "jkbTi1hSr2Dy",
        "outputId": "09e16b91-39e4-44c5-9bbe-2d5f91bead29"
      },
      "outputs": [
        {
          "data": {
            "image/png": "[encoded data removed]",
            "text/plain": [
              "<Figure size 500x500 with 1 Axes>"
            ]
          },
          "metadata": {},
          "output_type": "display_data"
        },
        {
          "data": {
            "image/png": "[encoded data removed]",
            "text/plain": [
              "<Figure size 500x500 with 1 Axes>"
            ]
          },
          "metadata": {},
          "output_type": "display_data"
        }
      ],
      "source": [
        "plot_history(history)"
      ]
    },
    {
      "cell_type": "markdown",
      "metadata": {
        "id": "usqFl4eww6QQ"
      },
      "source": [
        "### Part 4 : Trying out our model\n",
        "\n",
        "Let's try out our model using two pairs of questions. The first pair has similar meaning, while the second pair has a different meaning. "
      ]
    },
    {
      "cell_type": "code",
      "execution_count": 19,
      "metadata": {
        "id": "QfUQP0xeh8V8"
      },
      "outputs": [],
      "source": [
        "new_text = \"How to get familiar with machine learning?\"\n",
        "same_text = \"What should I do to learn machine learning?\"\n",
        "dif_text = \"Should machine learning be taught in kindergarten?\""
      ]
    },
    {
      "cell_type": "code",
      "execution_count": 20,
      "metadata": {
        "colab": {
          "base_uri": "https://localhost:8080/"
        },
        "id": "W6Qy-KgQi8_a",
        "outputId": "c1d53536-e25f-4f03-98f0-f9c1a5c5d933"
      },
      "outputs": [
        {
          "name": "stderr",
          "output_type": "stream",
          "text": [
            "<ipython-input-4-1d2d81042046>:54: FutureWarning: The default value of regex will change from True to False in a future version.\n",
            "  df_input['cleaned'] = df_input['cleaned'].str.replace('http\\S+|www.\\S+', '', case=False)\n",
            "<ipython-input-4-1d2d81042046>:54: FutureWarning: The default value of regex will change from True to False in a future version.\n",
            "  df_input['cleaned'] = df_input['cleaned'].str.replace('http\\S+|www.\\S+', '', case=False)\n"
          ]
        }
      ],
      "source": [
        "dfnew = pd.DataFrame(np.array([[new_text, same_text], [new_text, dif_text]]),\n",
        "                   columns=['text1', 'text2'])\n",
        "dfnew1 = dfnew[['text1']]\n",
        "dfnew2 = dfnew[['text2']]\n",
        "text1_preprocess = preprocess_question(dfnew1, 'text1')\n",
        "text2_preprocess = preprocess_question(dfnew2, 'text2')\n",
        "\n",
        "t1v = list()\n",
        "t2v = list()\n",
        "\n",
        "for row_text1 in text1_preprocess:\n",
        "  t1_num = []\n",
        "  for word in row_text1:\n",
        "    t1_num.append(vocabulary[word])\n",
        "  t1v.append(t1_num)\n",
        "\n",
        "for row_text2 in text2_preprocess:\n",
        "  t2_num = []\n",
        "  for word in row_text2:\n",
        "    t2_num.append(vocabulary[word])\n",
        "  t2v.append(t2_num)\n",
        "\n",
        "x_new = pd.DataFrame(zip(t1v,t2v))\n",
        "x_new = x_new.rename({0:'t1', 1:'t2'}, axis = 'columns')\n",
        "x_input = {'q1': x_new.t1, 'q2':x_new.t2}\n",
        "\n",
        "for data, part in itertools.product([x_input], ['q1', 'q2']):\n",
        "  data[part] = tf.keras.preprocessing.sequence.pad_sequences(data[part], maxlen=max_length)"
      ]
    },
    {
      "cell_type": "code",
      "execution_count": 21,
      "metadata": {
        "colab": {
          "base_uri": "https://localhost:8080/"
        },
        "id": "bplHn35tJjbm",
        "outputId": "46ee8ccb-e1ae-46ed-c0f1-bd00faa7170e"
      },
      "outputs": [
        {
          "name": "stdout",
          "output_type": "stream",
          "text": [
            "1/1 [==============================] - 2s 2s/step\n"
          ]
        },
        {
          "data": {
            "text/plain": [
              "array([[0.8253102 ],\n",
              "       [0.00639854]], dtype=float32)"
            ]
          },
          "execution_count": 21,
          "metadata": {},
          "output_type": "execute_result"
        }
      ],
      "source": [
        "full_model.predict([x_input['q1'], x_input['q2']])"
      ]
    },
    {
      "cell_type": "markdown",
      "metadata": {
        "id": "t7DKgncF1uMq"
      },
      "source": [
        "As we can see, the first pair of question has a similarity score of 0.82, while the second pair of question has a similarity score of 0.006. "
      ]
    },
    {
      "cell_type": "code",
      "execution_count": 22,
      "metadata": {
        "colab": {
          "base_uri": "https://localhost:8080/"
        },
        "id": "QJ-yesKxac57",
        "outputId": "17c0574f-fe7a-4800-97c2-9443c7ce03c7"
      },
      "outputs": [
        {
          "name": "stdout",
          "output_type": "stream",
          "text": [
            "1/1 [==============================] - 0s 37ms/step\n"
          ]
        },
        {
          "name": "stderr",
          "output_type": "stream",
          "text": [
            "<ipython-input-4-1d2d81042046>:54: FutureWarning: The default value of regex will change from True to False in a future version.\n",
            "  df_input['cleaned'] = df_input['cleaned'].str.replace('http\\S+|www.\\S+', '', case=False)\n",
            "<ipython-input-4-1d2d81042046>:54: FutureWarning: The default value of regex will change from True to False in a future version.\n",
            "  df_input['cleaned'] = df_input['cleaned'].str.replace('http\\S+|www.\\S+', '', case=False)\n"
          ]
        },
        {
          "data": {
            "text/plain": [
              "array([[0.94137305],\n",
              "       [0.05798323],\n",
              "       [0.14151819]], dtype=float32)"
            ]
          },
          "execution_count": 22,
          "metadata": {},
          "output_type": "execute_result"
        }
      ],
      "source": [
        "new_text = \"How can I learn Spanish quickly?\"\n",
        "same_text = \"What should I do to learn Spanish quickly?\"\n",
        "dif_text = \"Should Spanish be taught in Spain?\"\n",
        "question1 = \"What are the benefits of regular exercise?\"\n",
        "question2 = \"How does engaging in physical activity positively impact our health?\"\n",
        "\n",
        "dfnew = pd.DataFrame(np.array([[new_text, same_text], [new_text, dif_text], [question1, question2]]),\n",
        "                   columns=['text1', 'text2'])\n",
        "dfnew1 = dfnew[['text1']]\n",
        "dfnew2 = dfnew[['text2']]\n",
        "text1_preprocess = preprocess_question(dfnew1, 'text1')\n",
        "text2_preprocess = preprocess_question(dfnew2, 'text2')\n",
        "\n",
        "t1v = list()\n",
        "t2v = list()\n",
        "\n",
        "for row_text1 in text1_preprocess:\n",
        "  t1_num = []\n",
        "  for word in row_text1:\n",
        "    t1_num.append(vocabulary[word])\n",
        "  t1v.append(t1_num)\n",
        "\n",
        "for row_text2 in text2_preprocess:\n",
        "  t2_num = []\n",
        "  for word in row_text2:\n",
        "    t2_num.append(vocabulary[word])\n",
        "  t2v.append(t2_num)\n",
        "\n",
        "x_new = pd.DataFrame(zip(t1v,t2v))\n",
        "x_new = x_new.rename({0:'t1', 1:'t2'}, axis = 'columns')\n",
        "x_new\n",
        "x_input = {'q1': x_new.t1, 'q2':x_new.t2}\n",
        "\n",
        "for data, part in itertools.product([x_input], ['q1', 'q2']):\n",
        "  data[part] = tf.keras.preprocessing.sequence.pad_sequences(data[part], maxlen=max_length)\n",
        "\n",
        "full_model.predict([x_input['q1'], x_input['q2']])"
      ]
    }
  ],
  "metadata": {
    "accelerator": "GPU",
    "colab": {
      "gpuType": "T4",
      "machine_shape": "hm",
      "provenance": []
    },
    "kernelspec": {
      "display_name": "Python 3",
      "name": "python3"
    }
  },
  "nbformat": 4,
  "nbformat_minor": 0
}
